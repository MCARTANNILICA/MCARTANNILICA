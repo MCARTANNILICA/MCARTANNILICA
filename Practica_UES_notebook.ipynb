{
  "nbformat": 4,
  "nbformat_minor": 0,
  "metadata": {
    "colab": {
      "name": "Practica UES - notebook.ipynb",
      "provenance": [],
      "collapsed_sections": [],
      "include_colab_link": true
    },
    "kernelspec": {
      "name": "python3",
      "display_name": "Python 3"
    },
    "language_info": {
      "name": "python"
    }
  },
  "cells": [
    {
      "cell_type": "markdown",
      "metadata": {
        "id": "view-in-github",
        "colab_type": "text"
      },
      "source": [
        "<a href=\"https://colab.research.google.com/github/MCARTANNILICA/MCARTANNILICA/blob/master/Practica_UES_notebook.ipynb\" target=\"_parent\"><img src=\"https://colab.research.google.com/assets/colab-badge.svg\" alt=\"Open In Colab\"/></a>"
      ]
    },
    {
      "cell_type": "code",
      "metadata": {
        "colab": {
          "base_uri": "https://localhost:8080/"
        },
        "id": "MadDboLM9CvT",
        "outputId": "b678153c-26a5-4470-978c-74875b3c7b7f"
      },
      "source": [
        "1.12 + 2"
      ],
      "execution_count": null,
      "outputs": [
        {
          "output_type": "execute_result",
          "data": {
            "text/plain": [
              "3.12"
            ]
          },
          "metadata": {},
          "execution_count": 3
        }
      ]
    },
    {
      "cell_type": "code",
      "metadata": {
        "colab": {
          "base_uri": "https://localhost:8080/"
        },
        "id": "faHsuUEE_EmQ",
        "outputId": "2b16ab16-b0f1-475a-df67-9ea49a6b745c"
      },
      "source": [
        "5/2"
      ],
      "execution_count": null,
      "outputs": [
        {
          "output_type": "execute_result",
          "data": {
            "text/plain": [
              "2.5"
            ]
          },
          "metadata": {},
          "execution_count": 4
        }
      ]
    },
    {
      "cell_type": "code",
      "metadata": {
        "colab": {
          "base_uri": "https://localhost:8080/",
          "height": 35
        },
        "id": "t9ZSaSPO_I_h",
        "outputId": "b977bfe8-d97c-4182-c017-8d7bb7f85708"
      },
      "source": [
        "\"hola\""
      ],
      "execution_count": null,
      "outputs": [
        {
          "output_type": "execute_result",
          "data": {
            "application/vnd.google.colaboratory.intrinsic+json": {
              "type": "string"
            },
            "text/plain": [
              "'hola'"
            ]
          },
          "metadata": {},
          "execution_count": 5
        }
      ]
    },
    {
      "cell_type": "code",
      "metadata": {
        "colab": {
          "base_uri": "https://localhost:8080/",
          "height": 35
        },
        "id": "NfEFSwwB_S6X",
        "outputId": "d6d02aaf-b715-46f0-9f33-ab2159b3f759"
      },
      "source": [
        "\"hola como andas? Este es el curso de La UES\""
      ],
      "execution_count": null,
      "outputs": [
        {
          "output_type": "execute_result",
          "data": {
            "application/vnd.google.colaboratory.intrinsic+json": {
              "type": "string"
            },
            "text/plain": [
              "'hola como andas? Este es el curso de La UES'"
            ]
          },
          "metadata": {},
          "execution_count": 6
        }
      ]
    },
    {
      "cell_type": "code",
      "metadata": {
        "colab": {
          "base_uri": "https://localhost:8080/"
        },
        "id": "A3jSzQIa_Zyx",
        "outputId": "9f5d29ef-1a91-46a2-8def-8dce5f208cd5"
      },
      "source": [
        "[1, 2, 3, 4, 5, 6]"
      ],
      "execution_count": null,
      "outputs": [
        {
          "output_type": "execute_result",
          "data": {
            "text/plain": [
              "[1, 2, 3, 4, 5, 6]"
            ]
          },
          "metadata": {},
          "execution_count": 7
        }
      ]
    },
    {
      "cell_type": "code",
      "metadata": {
        "colab": {
          "base_uri": "https://localhost:8080/"
        },
        "id": "9_npbYaL_e98",
        "outputId": "d713e931-1175-4ba7-ecf1-9b006fd8b701"
      },
      "source": [
        "['lunes', 'martes', 'miercoles', 'jueves', 'viernes', 'sabado', 'domingo']"
      ],
      "execution_count": null,
      "outputs": [
        {
          "output_type": "execute_result",
          "data": {
            "text/plain": [
              "['lunes', 'martes', 'miercoles', 'jueves', 'viernes', 'sabado', 'domingo']"
            ]
          },
          "metadata": {},
          "execution_count": 8
        }
      ]
    },
    {
      "cell_type": "code",
      "metadata": {
        "colab": {
          "base_uri": "https://localhost:8080/"
        },
        "id": "01SCmRO__6xR",
        "outputId": "bd56290c-cb89-4a05-eb5e-9f6b89c29e73"
      },
      "source": [
        "(1,2)"
      ],
      "execution_count": null,
      "outputs": [
        {
          "output_type": "execute_result",
          "data": {
            "text/plain": [
              "(1, 2)"
            ]
          },
          "metadata": {},
          "execution_count": 9
        }
      ]
    },
    {
      "cell_type": "code",
      "metadata": {
        "colab": {
          "base_uri": "https://localhost:8080/"
        },
        "id": "B9lsegKi_9oJ",
        "outputId": "37000b8b-b640-4156-cc7c-37ca0c266902"
      },
      "source": [
        "{0: 'estudiante', 1: 'profesor', 2: 'jefe de catedra'}"
      ],
      "execution_count": null,
      "outputs": [
        {
          "output_type": "execute_result",
          "data": {
            "text/plain": [
              "{0: 'estudiante', 1: 'profesor', 2: 'jefe de catedra'}"
            ]
          },
          "metadata": {},
          "execution_count": 10
        }
      ]
    },
    {
      "cell_type": "code",
      "metadata": {
        "id": "mIbEDunsAi3F"
      },
      "source": [
        "resultado = 180/9"
      ],
      "execution_count": null,
      "outputs": []
    },
    {
      "cell_type": "code",
      "metadata": {
        "id": "Y1z-b0MsCPAl"
      },
      "source": [
        "resultado = 'hola como estas'"
      ],
      "execution_count": null,
      "outputs": []
    },
    {
      "cell_type": "code",
      "metadata": {
        "id": "4A6V3W6HCdTF"
      },
      "source": [
        "resultado = 100 + 200 - 400*500 - 20 - 202020 - 1000000"
      ],
      "execution_count": null,
      "outputs": []
    },
    {
      "cell_type": "code",
      "metadata": {
        "colab": {
          "base_uri": "https://localhost:8080/"
        },
        "id": "iL9wvozTCltn",
        "outputId": "14576905-c6eb-4ac5-fe27-adf31ab16498"
      },
      "source": [
        "resultado"
      ],
      "execution_count": null,
      "outputs": [
        {
          "output_type": "execute_result",
          "data": {
            "text/plain": [
              "-1401740"
            ]
          },
          "metadata": {},
          "execution_count": 31
        }
      ]
    },
    {
      "cell_type": "code",
      "metadata": {
        "id": "dznK0yhwCsb-"
      },
      "source": [
        "listaDeDiasDeLaSemana = ['lunes', 'martes', 'miercoles', 'jueves', 'viernes', 'sabado', 'domingo']"
      ],
      "execution_count": null,
      "outputs": []
    },
    {
      "cell_type": "code",
      "metadata": {
        "colab": {
          "base_uri": "https://localhost:8080/"
        },
        "id": "EHyv-bXkCw5L",
        "outputId": "00ac2791-f780-4713-b317-ed56ca4554e9"
      },
      "source": [
        "listaDeDiasDeLaSemana"
      ],
      "execution_count": null,
      "outputs": [
        {
          "output_type": "execute_result",
          "data": {
            "text/plain": [
              "['lunes', 'martes', 'miercoles', 'jueves', 'viernes', 'sabado', 'domingo']"
            ]
          },
          "metadata": {},
          "execution_count": 20
        }
      ]
    },
    {
      "cell_type": "code",
      "metadata": {
        "id": "m6qXMtE3C1Zy"
      },
      "source": [
        "tupla = (1,2)"
      ],
      "execution_count": null,
      "outputs": []
    },
    {
      "cell_type": "code",
      "metadata": {
        "colab": {
          "base_uri": "https://localhost:8080/"
        },
        "id": "7EHGZWDZC3U_",
        "outputId": "66657808-376c-41e6-dda9-ae068b47edd3"
      },
      "source": [
        "tupla"
      ],
      "execution_count": null,
      "outputs": [
        {
          "output_type": "execute_result",
          "data": {
            "text/plain": [
              "(1, 2)"
            ]
          },
          "metadata": {},
          "execution_count": 22
        }
      ]
    },
    {
      "cell_type": "code",
      "metadata": {
        "id": "Kq7RaqaaC_Qb"
      },
      "source": [
        "IVA = 1.21\n",
        "precioProducto = 200\n",
        "precioFinal = IVA * precioProducto"
      ],
      "execution_count": null,
      "outputs": []
    },
    {
      "cell_type": "code",
      "metadata": {
        "colab": {
          "base_uri": "https://localhost:8080/"
        },
        "id": "u35wWKCuDKLR",
        "outputId": "7ff320a6-4fb8-429b-c998-9fa3f266e429"
      },
      "source": [
        "precioFinal"
      ],
      "execution_count": null,
      "outputs": [
        {
          "output_type": "execute_result",
          "data": {
            "text/plain": [
              "242.0"
            ]
          },
          "metadata": {},
          "execution_count": 24
        }
      ]
    },
    {
      "cell_type": "code",
      "metadata": {
        "colab": {
          "base_uri": "https://localhost:8080/"
        },
        "id": "wOkDjXKWElbo",
        "outputId": "4a09784e-2943-49a7-b57f-1afaea25dd47"
      },
      "source": [
        "if precioFinal > 200:\n",
        "  print(\"Esta caro\")\n",
        "else:\n",
        "  print(\"Esta en precio\")"
      ],
      "execution_count": null,
      "outputs": [
        {
          "output_type": "stream",
          "name": "stdout",
          "text": [
            "Esta caro\n"
          ]
        }
      ]
    },
    {
      "cell_type": "code",
      "metadata": {
        "colab": {
          "base_uri": "https://localhost:8080/"
        },
        "id": "1CFGFdwsEv2_",
        "outputId": "5f54c1ef-88ba-451f-a90c-54b855ae76ce"
      },
      "source": [
        "if resultado > 200000:\n",
        "  print(\"Es mas grande que 200000\")\n",
        "else:\n",
        "  print(\"Es menor a 200000\")"
      ],
      "execution_count": null,
      "outputs": [
        {
          "output_type": "stream",
          "name": "stdout",
          "text": [
            "Es menor a 200000\n"
          ]
        }
      ]
    },
    {
      "cell_type": "code",
      "metadata": {
        "colab": {
          "base_uri": "https://localhost:8080/"
        },
        "id": "eh8vNbBPFUKE",
        "outputId": "5beb6584-1a43-4b4e-fb51-2b5c1da16d7c"
      },
      "source": [
        "if len(listaDeDiasDeLaSemana) == 7:\n",
        "  print(\"La lista de dias de la semana esta completa\")\n",
        "else:\n",
        "  print(\"Esta incompleta la lista de dias de la semana\")"
      ],
      "execution_count": null,
      "outputs": [
        {
          "output_type": "stream",
          "name": "stdout",
          "text": [
            "La lista de dias de la semana esta completa\n"
          ]
        }
      ]
    },
    {
      "cell_type": "code",
      "metadata": {
        "colab": {
          "base_uri": "https://localhost:8080/"
        },
        "id": "OLBx5MxFGFRD",
        "outputId": "a23d735f-d24f-4151-e7f5-9d861d1a63db"
      },
      "source": [
        "metrosHaciaLaMontania = 100\n",
        "while metrosHaciaLaMontania != 0:\n",
        "  print(\"*******************************\")\n",
        "  print(\"Che, estoy caminando hacia la montania\")\n",
        "  print(\"Che, me quedan la siguiente cantidad de metros:\", metrosHaciaLaMontania)\n",
        "  print(\"*******************************\")\n",
        "  metrosHaciaLaMontania = metrosHaciaLaMontania - 10\n"
      ],
      "execution_count": null,
      "outputs": [
        {
          "output_type": "stream",
          "name": "stdout",
          "text": [
            "*******************************\n",
            "Che, estoy caminando hacia la montania\n",
            "Che, me quedan la siguiente cantidad de metros: 100\n",
            "*******************************\n",
            "*******************************\n",
            "Che, estoy caminando hacia la montania\n",
            "Che, me quedan la siguiente cantidad de metros: 90\n",
            "*******************************\n",
            "*******************************\n",
            "Che, estoy caminando hacia la montania\n",
            "Che, me quedan la siguiente cantidad de metros: 80\n",
            "*******************************\n",
            "*******************************\n",
            "Che, estoy caminando hacia la montania\n",
            "Che, me quedan la siguiente cantidad de metros: 70\n",
            "*******************************\n",
            "*******************************\n",
            "Che, estoy caminando hacia la montania\n",
            "Che, me quedan la siguiente cantidad de metros: 60\n",
            "*******************************\n",
            "*******************************\n",
            "Che, estoy caminando hacia la montania\n",
            "Che, me quedan la siguiente cantidad de metros: 50\n",
            "*******************************\n",
            "*******************************\n",
            "Che, estoy caminando hacia la montania\n",
            "Che, me quedan la siguiente cantidad de metros: 40\n",
            "*******************************\n",
            "*******************************\n",
            "Che, estoy caminando hacia la montania\n",
            "Che, me quedan la siguiente cantidad de metros: 30\n",
            "*******************************\n",
            "*******************************\n",
            "Che, estoy caminando hacia la montania\n",
            "Che, me quedan la siguiente cantidad de metros: 20\n",
            "*******************************\n",
            "*******************************\n",
            "Che, estoy caminando hacia la montania\n",
            "Che, me quedan la siguiente cantidad de metros: 10\n",
            "*******************************\n"
          ]
        }
      ]
    },
    {
      "cell_type": "code",
      "metadata": {
        "colab": {
          "base_uri": "https://localhost:8080/"
        },
        "id": "wfmiio--HxVL",
        "outputId": "f1dbe238-b622-4221-94cf-0ed628714b0a"
      },
      "source": [
        "0 != 0"
      ],
      "execution_count": null,
      "outputs": [
        {
          "output_type": "execute_result",
          "data": {
            "text/plain": [
              "False"
            ]
          },
          "metadata": {},
          "execution_count": 41
        }
      ]
    },
    {
      "cell_type": "code",
      "metadata": {
        "colab": {
          "base_uri": "https://localhost:8080/"
        },
        "id": "XlZaV5zZIC7x",
        "outputId": "57796ac0-f4ea-476b-e312-b1f23554b18c"
      },
      "source": [
        "for dia in listaDeDiasDeLaSemana:\n",
        "  print(\"Hoy es el dia\", dia)\n",
        "\n",
        "# ['lunes', 'martes', 'miercoles', 'jueves', 'viernes', 'sabado', 'domingo']\n"
      ],
      "execution_count": null,
      "outputs": [
        {
          "output_type": "stream",
          "name": "stdout",
          "text": [
            "Hoy es el dia lunes\n",
            "Hoy es el dia martes\n",
            "Hoy es el dia miercoles\n",
            "Hoy es el dia jueves\n",
            "Hoy es el dia viernes\n",
            "Hoy es el dia sabado\n",
            "Hoy es el dia domingo\n"
          ]
        }
      ]
    },
    {
      "cell_type": "code",
      "metadata": {
        "colab": {
          "base_uri": "https://localhost:8080/"
        },
        "id": "y6EVJDG7Itil",
        "outputId": "3c66ae7c-e038-466c-d8f4-0ab5483f95d6"
      },
      "source": [
        "listaDePreciosDeProductos = [100, 300, 400, 500, 600, 700]\n",
        "for precioProducto in listaDePreciosDeProductos:\n",
        "    print(\"El precio del producto + IVA es: \", precioProducto*IVA)"
      ],
      "execution_count": null,
      "outputs": [
        {
          "output_type": "stream",
          "name": "stdout",
          "text": [
            "El precio del producto + IVA es:  121.0\n",
            "El precio del producto + IVA es:  363.0\n",
            "El precio del producto + IVA es:  484.0\n",
            "El precio del producto + IVA es:  605.0\n",
            "El precio del producto + IVA es:  726.0\n",
            "El precio del producto + IVA es:  847.0\n"
          ]
        }
      ]
    },
    {
      "cell_type": "code",
      "metadata": {
        "colab": {
          "base_uri": "https://localhost:8080/"
        },
        "id": "GqX4q84pJtPL",
        "outputId": "faa4d7e8-b312-4f32-827a-7651341b159d"
      },
      "source": [
        "listaDePreciosDeProductos[0]"
      ],
      "execution_count": null,
      "outputs": [
        {
          "output_type": "execute_result",
          "data": {
            "text/plain": [
              "100"
            ]
          },
          "metadata": {},
          "execution_count": 49
        }
      ]
    },
    {
      "cell_type": "code",
      "metadata": {
        "colab": {
          "base_uri": "https://localhost:8080/"
        },
        "id": "WnoN5hP_J8ev",
        "outputId": "f5e40a59-b108-4158-921d-855884362244"
      },
      "source": [
        "a = [100, 300, 400, 500, 600, 700]\n",
        "for b in a:\n",
        "    print(b*1.21)"
      ],
      "execution_count": null,
      "outputs": [
        {
          "output_type": "stream",
          "name": "stdout",
          "text": [
            "121.0\n",
            "363.0\n",
            "484.0\n",
            "605.0\n",
            "726.0\n",
            "847.0\n"
          ]
        }
      ]
    },
    {
      "cell_type": "code",
      "metadata": {
        "id": "kdGd71_jM_bu"
      },
      "source": [
        "def calcularIVAParaProductos(listaDeProductos):\n",
        "  for precioProducto in listaDeProductos:\n",
        "    print(\"El precio del producto + IVA es: \", precioProducto*IVA)"
      ],
      "execution_count": null,
      "outputs": []
    },
    {
      "cell_type": "code",
      "metadata": {
        "colab": {
          "base_uri": "https://localhost:8080/"
        },
        "id": "uPRN6douNdEB",
        "outputId": "5a10f659-1689-42d8-9193-89c038d604f4"
      },
      "source": [
        "calcularIVAParaProductos([200, 300, 500])"
      ],
      "execution_count": null,
      "outputs": [
        {
          "output_type": "stream",
          "name": "stdout",
          "text": [
            "El precio del producto + IVA es:  242.0\n",
            "El precio del producto + IVA es:  363.0\n",
            "El precio del producto + IVA es:  605.0\n"
          ]
        }
      ]
    },
    {
      "cell_type": "code",
      "metadata": {
        "colab": {
          "base_uri": "https://localhost:8080/"
        },
        "id": "pyRV_XvSNips",
        "outputId": "f820903d-afca-4a25-daf9-66037f1c2488"
      },
      "source": [
        "calcularIVAParaProductos([9021, 6000, 3000, 120, 410, 610])"
      ],
      "execution_count": null,
      "outputs": [
        {
          "output_type": "stream",
          "name": "stdout",
          "text": [
            "El precio del producto + IVA es:  10915.41\n",
            "El precio del producto + IVA es:  7260.0\n",
            "El precio del producto + IVA es:  3630.0\n",
            "El precio del producto + IVA es:  145.2\n",
            "El precio del producto + IVA es:  496.09999999999997\n",
            "El precio del producto + IVA es:  738.1\n"
          ]
        }
      ]
    },
    {
      "cell_type": "code",
      "metadata": {
        "id": "EIV3ZpReNyx5"
      },
      "source": [
        "def restar(numero1, numero2):\n",
        "  return numero1-numero2"
      ],
      "execution_count": null,
      "outputs": []
    },
    {
      "cell_type": "code",
      "metadata": {
        "colab": {
          "base_uri": "https://localhost:8080/"
        },
        "id": "J3zmjQTeN67E",
        "outputId": "31e261a2-f127-4c4c-f739-8021217c6e3b"
      },
      "source": [
        "print(restar(50,20))"
      ],
      "execution_count": null,
      "outputs": [
        {
          "output_type": "stream",
          "name": "stdout",
          "text": [
            "30\n"
          ]
        }
      ]
    },
    {
      "cell_type": "code",
      "metadata": {
        "id": "qzgknZB8OARh"
      },
      "source": [
        "def caminarHaciaLaMontania(metrosHaciaLaMontania):\n",
        "  while metrosHaciaLaMontania != 0:\n",
        "    print(\"*******************************\")\n",
        "    print(\"Che, estoy caminando hacia la montania\")\n",
        "    print(\"Che, me quedan la siguiente cantidad de metros:\", metrosHaciaLaMontania)\n",
        "    print(\"*******************************\")\n",
        "    metrosHaciaLaMontania = metrosHaciaLaMontania - 10\n",
        "  print(\"Ya estoy en la montania\")"
      ],
      "execution_count": null,
      "outputs": []
    },
    {
      "cell_type": "code",
      "metadata": {
        "colab": {
          "base_uri": "https://localhost:8080/"
        },
        "id": "tIoKIVRvOT7Y",
        "outputId": "af8ec333-555c-417e-b7f4-6fa54d35a0d8"
      },
      "source": [
        "caminarHaciaLaMontania(200)"
      ],
      "execution_count": null,
      "outputs": [
        {
          "output_type": "stream",
          "name": "stdout",
          "text": [
            "*******************************\n",
            "Che, estoy caminando hacia la montania\n",
            "Che, me quedan la siguiente cantidad de metros: 200\n",
            "*******************************\n",
            "*******************************\n",
            "Che, estoy caminando hacia la montania\n",
            "Che, me quedan la siguiente cantidad de metros: 190\n",
            "*******************************\n",
            "*******************************\n",
            "Che, estoy caminando hacia la montania\n",
            "Che, me quedan la siguiente cantidad de metros: 180\n",
            "*******************************\n",
            "*******************************\n",
            "Che, estoy caminando hacia la montania\n",
            "Che, me quedan la siguiente cantidad de metros: 170\n",
            "*******************************\n",
            "*******************************\n",
            "Che, estoy caminando hacia la montania\n",
            "Che, me quedan la siguiente cantidad de metros: 160\n",
            "*******************************\n",
            "*******************************\n",
            "Che, estoy caminando hacia la montania\n",
            "Che, me quedan la siguiente cantidad de metros: 150\n",
            "*******************************\n",
            "*******************************\n",
            "Che, estoy caminando hacia la montania\n",
            "Che, me quedan la siguiente cantidad de metros: 140\n",
            "*******************************\n",
            "*******************************\n",
            "Che, estoy caminando hacia la montania\n",
            "Che, me quedan la siguiente cantidad de metros: 130\n",
            "*******************************\n",
            "*******************************\n",
            "Che, estoy caminando hacia la montania\n",
            "Che, me quedan la siguiente cantidad de metros: 120\n",
            "*******************************\n",
            "*******************************\n",
            "Che, estoy caminando hacia la montania\n",
            "Che, me quedan la siguiente cantidad de metros: 110\n",
            "*******************************\n",
            "*******************************\n",
            "Che, estoy caminando hacia la montania\n",
            "Che, me quedan la siguiente cantidad de metros: 100\n",
            "*******************************\n",
            "*******************************\n",
            "Che, estoy caminando hacia la montania\n",
            "Che, me quedan la siguiente cantidad de metros: 90\n",
            "*******************************\n",
            "*******************************\n",
            "Che, estoy caminando hacia la montania\n",
            "Che, me quedan la siguiente cantidad de metros: 80\n",
            "*******************************\n",
            "*******************************\n",
            "Che, estoy caminando hacia la montania\n",
            "Che, me quedan la siguiente cantidad de metros: 70\n",
            "*******************************\n",
            "*******************************\n",
            "Che, estoy caminando hacia la montania\n",
            "Che, me quedan la siguiente cantidad de metros: 60\n",
            "*******************************\n",
            "*******************************\n",
            "Che, estoy caminando hacia la montania\n",
            "Che, me quedan la siguiente cantidad de metros: 50\n",
            "*******************************\n",
            "*******************************\n",
            "Che, estoy caminando hacia la montania\n",
            "Che, me quedan la siguiente cantidad de metros: 40\n",
            "*******************************\n",
            "*******************************\n",
            "Che, estoy caminando hacia la montania\n",
            "Che, me quedan la siguiente cantidad de metros: 30\n",
            "*******************************\n",
            "*******************************\n",
            "Che, estoy caminando hacia la montania\n",
            "Che, me quedan la siguiente cantidad de metros: 20\n",
            "*******************************\n",
            "*******************************\n",
            "Che, estoy caminando hacia la montania\n",
            "Che, me quedan la siguiente cantidad de metros: 10\n",
            "*******************************\n",
            "Ya estoy en la montania\n"
          ]
        }
      ]
    }
  ]
}